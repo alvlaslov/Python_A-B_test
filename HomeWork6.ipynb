{
 "cells": [
  {
   "attachments": {},
   "cell_type": "markdown",
   "id": "d9070952",
   "metadata": {},
   "source": [
    "## Задание 1:\n",
    "\n",
    "Продакт на главной mail.ru решил протестировать в рекомендательной ленте контента вместо карточек со статьями видеоплеер с короткими видео. Нынешний таймспент на юзера в день в среднем равен 25 минут, а стандартная ошибка (SD) равна 156. Мы предполагаем, что в новой версии таймспент на юзера в день изменится на 10%. Средний трафик  20000 человек в день. Посчитайте сколько дней необходимо держать эксперимент при alpha = 5% и beta = 20% .\n"
   ]
  },
  {
   "cell_type": "code",
   "execution_count": 133,
   "id": "8a8e036e",
   "metadata": {},
   "outputs": [],
   "source": [
    "from statsmodels.stats.power import tt_ind_solve_power, zt_ind_solve_power\n",
    "from statsmodels.stats.proportion import proportion_effectsize\n",
    "from statsmodels.stats.meta_analysis import effectsize_smd\n",
    "from typing import Union\n",
    "import plotly.graph_objects as go\n",
    "from scipy import stats\n",
    "from math import asin\n",
    "import numpy as np"
   ]
  },
  {
   "cell_type": "code",
   "execution_count": 134,
   "id": "417a5182",
   "metadata": {},
   "outputs": [],
   "source": [
    "# таймспент - количественная метрика"
   ]
  },
  {
   "cell_type": "code",
   "execution_count": 135,
   "id": "a9f1521b",
   "metadata": {},
   "outputs": [],
   "source": [
    "time_control, time_test = 25, 25 + 25 * .1\n",
    "std_control, std_test = 156, 156 * 1.15\n",
    "dau = 20_000"
   ]
  },
  {
   "cell_type": "code",
   "execution_count": 136,
   "id": "be38b8c1",
   "metadata": {},
   "outputs": [
    {
     "data": {
      "text/plain": [
       "(-0.014871423685692022, -0.014870865944557932)"
      ]
     },
     "execution_count": 136,
     "metadata": {},
     "output_type": "execute_result"
    }
   ],
   "source": [
    "def calc_continuous_effect_size(mean_1: Union[float, int],\n",
    "                                std_1: Union[float, int],\n",
    "                                mean_2: Union[float, int],\n",
    "                                std_2: Union[float, int],\n",
    "                                nobs_1: int = 10_000,\n",
    "                                nobs_2: int = 10_000):\n",
    "    \n",
    "    es_formula = (mean_1 - mean_2) / ((std_1**2 + std_2**2) / 2) ** 0.5\n",
    "    es_import = effectsize_smd(mean_1, std_1, nobs_1, mean_2, std_2, nobs_2)[0]\n",
    "    \n",
    "    return es_formula, es_import \n",
    "\n",
    "calc_continuous_effect_size(mean_1=time_control, std_1=std_control, mean_2=time_test, std_2=std_test) "
   ]
  },
  {
   "cell_type": "code",
   "execution_count": 137,
   "id": "599c460f",
   "metadata": {},
   "outputs": [
    {
     "name": "stdout",
     "output_type": "stream",
     "text": [
      "141971\n"
     ]
    }
   ],
   "source": [
    "effect_size = calc_continuous_effect_size(mean_1=time_control, std_1=std_control, mean_2=time_test, std_2=std_test)[1]\n",
    "\n",
    "def calc_sample_size_continuous(effect_size: float,\n",
    "                                alpha: float = .05,\n",
    "                                beta: float = .2,\n",
    "                                ratio: Union[float, int] = 1):\n",
    "    \n",
    "    n = tt_ind_solve_power(effect_size=effect_size,\n",
    "                           alpha=alpha,\n",
    "                           power=(1 - beta),\n",
    "                           ratio=ratio,\n",
    "                  )\n",
    "    return int(n * 2)\n",
    "\n",
    "\n",
    "selection = calc_sample_size_continuous(effect_size=effect_size, alpha=.05, beta=.2)\n",
    "print(selection)"
   ]
  },
  {
   "cell_type": "code",
   "execution_count": 138,
   "id": "2c0c3eea",
   "metadata": {},
   "outputs": [
    {
     "name": "stdout",
     "output_type": "stream",
     "text": [
      "duration ~ 7.09855 days\n"
     ]
    }
   ],
   "source": [
    "duration = selection/dau\n",
    "print(f'duration ~ {duration} days')"
   ]
  },
  {
   "attachments": {},
   "cell_type": "markdown",
   "id": "be00289e",
   "metadata": {},
   "source": [
    "## Задание 2:\n",
    "\n",
    "Наша продуктовая команда в ecommerce магазине планирует запустить тест, направленный на ускорение загрузки сайта. Одна из основных метрик bounce rate в GA = 40%. Мы предполагаем, что при оптимизации сайта она изменится минимум на 20%.Средний трафик  4000 человек в день. Посчитайте сколько нам нужно дней держать эксперимент при alpha = 5% и beta = 20%\n"
   ]
  },
  {
   "cell_type": "code",
   "execution_count": 139,
   "id": "0609150d",
   "metadata": {},
   "outputs": [],
   "source": [
    "# bounce rate в GA - качественная метрика\n",
    "\n",
    "br_1, br_2 = .4, .32\n",
    "dau = 4_000\n"
   ]
  },
  {
   "cell_type": "code",
   "execution_count": 140,
   "id": "bb2cb0e4",
   "metadata": {},
   "outputs": [
    {
     "data": {
      "text/plain": [
       "0.16690997264630925"
      ]
     },
     "execution_count": 140,
     "metadata": {},
     "output_type": "execute_result"
    }
   ],
   "source": [
    "def calc_proportion_es(prob1: float, prob2: float):\n",
    "    return abs(proportion_effectsize(prob1, prob2)) \n",
    "\n",
    "es_prop = calc_proportion_es(br_1, br_2)\n",
    "es_prop"
   ]
  },
  {
   "cell_type": "code",
   "execution_count": 141,
   "id": "93649167",
   "metadata": {},
   "outputs": [
    {
     "name": "stdout",
     "output_type": "stream",
     "text": [
      "1126\n"
     ]
    }
   ],
   "source": [
    "def calc_sample_size_proportion(effect_size: float,\n",
    "                                alpha: float = .05,\n",
    "                                beta: float = .2,\n",
    "                                ratio: Union[float, int] = 1):\n",
    "    \n",
    "    n = zt_ind_solve_power(effect_size=effect_size,\n",
    "                           alpha=alpha,\n",
    "                           power=(1 - beta),\n",
    "                           ratio=ratio,\n",
    "                  )\n",
    "    return int(n * 2)\n",
    "\n",
    "\n",
    "selection = calc_sample_size_proportion(effect_size=es_prop, alpha=.05, beta=.2)\n",
    "print(selection)"
   ]
  },
  {
   "cell_type": "code",
   "execution_count": 142,
   "id": "b9400a88",
   "metadata": {},
   "outputs": [
    {
     "name": "stdout",
     "output_type": "stream",
     "text": [
      "duration = 0.2815 day\n"
     ]
    }
   ],
   "source": [
    "duration = selection/dau\n",
    "print(f'duration = {duration} day')"
   ]
  },
  {
   "cell_type": "code",
   "execution_count": null,
   "id": "0aac6131",
   "metadata": {},
   "outputs": [],
   "source": []
  }
 ],
 "metadata": {
  "kernelspec": {
   "display_name": "Python 3 (ipykernel)",
   "language": "python",
   "name": "python3"
  },
  "language_info": {
   "codemirror_mode": {
    "name": "ipython",
    "version": 3
   },
   "file_extension": ".py",
   "mimetype": "text/x-python",
   "name": "python",
   "nbconvert_exporter": "python",
   "pygments_lexer": "ipython3",
   "version": "3.9.13"
  }
 },
 "nbformat": 4,
 "nbformat_minor": 5
}
