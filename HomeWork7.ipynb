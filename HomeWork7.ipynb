{
 "cells": [
  {
   "cell_type": "markdown",
   "id": "bd01e757",
   "metadata": {},
   "source": [
    "На основе выбранных продуктов из первого вебинара, выберите 2 A/B-теста и составьте план эксперимента, чтобы избежать Peeking Problem\n",
    "\n",
    "Распишите, какие метрики и как вы будете анализировать"
   ]
  },
  {
   "cell_type": "markdown",
   "id": "34e274b4",
   "metadata": {},
   "source": [
    "#### Продукт - ozon.ru\n",
    "\n",
    "#### Гипотеза:\n",
    "\n",
    "Увеличение срока хранения товара в точках получения с 7 дней до 12 дней. Позволит снизить показатель Churn rate c 8% до 5% за год.\n",
    "\n",
    "#### Что делаем:\n",
    "\n",
    "Контрольная версия: оставляем срок хранения товара без изменений.\n",
    "Тестовая версия: увеличиваем срок хранения товара в точках получения с 7 дней до 12 дней.\n",
    "\n",
    "#### На каких пользователях тестируем:\n",
    "\n",
    "Участвует как действующие, так и новые пользователи платформы. Важно определить, когда клиента можно считать потерянным. За данный показатель возьмем отсутствие покупок в течение календарного месяца с момента последней покупки. Участие принимают точки выдачи заказов в трех городах: Нижний Новгород, Казань, Краснодар. Среднее количество человек, которые совершают покупку в данных городах,  составляет 10000 человек в день.\n",
    "\n",
    "#### Метрики:\n",
    "\n",
    "●\tChurn rate (Отток клиентов) - primary.\n",
    "\n",
    "●\tПроцент товаров, которые не забрали пользователи в период хранения товара — secondary.\n",
    "\n",
    "#### План действий: \n",
    "\n",
    "●\tЕсли наш эксперимент будет положительным и мы зафиксируем ожидаемое уменьшение показателя Churn rate (Отток клиентов) и процент товаров, которые не забрали пользователи в период хранения товара не будет увеличен, то масштабируем изменение и «выкатываем» его на все пункты выдачи заказов по России.\n",
    "\n",
    "●\tЕсли показатель Churn rate (Отток клиентов) увеличивается или снижается незначительно, либо процент товаров, которые не забрали пользователи увеличивается, то откатываем эксперимент. \n"
   ]
  },
  {
   "cell_type": "code",
   "execution_count": 16,
   "id": "92b6dc4d",
   "metadata": {},
   "outputs": [],
   "source": [
    "from statsmodels.stats.power import tt_ind_solve_power, zt_ind_solve_power\n",
    "from statsmodels.stats.proportion import proportion_effectsize\n",
    "from statsmodels.stats.meta_analysis import effectsize_smd\n",
    "from typing import Union\n",
    "import plotly.graph_objects as go\n",
    "from scipy import stats\n",
    "from math import asin\n",
    "import numpy as np"
   ]
  },
  {
   "cell_type": "markdown",
   "id": "94adeff1",
   "metadata": {},
   "source": [
    "Посчитаем сколько по времени необходимо проводить эксперимент  при alpha = 5% и beta = 20%.\n",
    "Churn rate (Отток клиентов) - качественная метрика."
   ]
  },
  {
   "cell_type": "code",
   "execution_count": 17,
   "id": "257e1141",
   "metadata": {},
   "outputs": [],
   "source": [
    "cr_1, cr_2 = .08, .05\n",
    "num_purchases = 10_000"
   ]
  },
  {
   "cell_type": "code",
   "execution_count": 18,
   "id": "a9f5a35f",
   "metadata": {},
   "outputs": [
    {
     "data": {
      "text/plain": [
       "0.12248629262683436"
      ]
     },
     "execution_count": 18,
     "metadata": {},
     "output_type": "execute_result"
    }
   ],
   "source": [
    "#Расчёт effect_size для пропорций\n",
    "\n",
    "def calc_proportion_es(prob1: float, prob2: float):\n",
    "    return abs(proportion_effectsize(prob1, prob2)) \n",
    "\n",
    "es_prop = calc_proportion_es(cr_1, cr_2)\n",
    "es_prop\n"
   ]
  },
  {
   "cell_type": "code",
   "execution_count": 19,
   "id": "3cdb4dfd",
   "metadata": {},
   "outputs": [
    {
     "name": "stdout",
     "output_type": "stream",
     "text": [
      "2092\n"
     ]
    }
   ],
   "source": [
    "#Расчёт минимально необходимой выборки * 2(для теста и контроля)\n",
    "\n",
    "def calc_sample_size_proportion(effect_size: float,\n",
    "                                alpha: float = .05,\n",
    "                                beta: float = .2,\n",
    "                                ratio: Union[float, int] = 1):\n",
    "    \n",
    "    n = zt_ind_solve_power(effect_size=effect_size,\n",
    "                           alpha=alpha,\n",
    "                           power=(1 - beta),\n",
    "                           ratio=ratio,\n",
    "                  )\n",
    "    return int(n * 2)\n",
    "\n",
    "\n",
    "selection = calc_sample_size_proportion(effect_size=es_prop, alpha=.05, beta=.2)\n",
    "print(selection)"
   ]
  },
  {
   "cell_type": "code",
   "execution_count": 21,
   "id": "c3f18503",
   "metadata": {},
   "outputs": [
    {
     "name": "stdout",
     "output_type": "stream",
     "text": [
      "duration ~ 0.2092 day\n"
     ]
    }
   ],
   "source": [
    "duration = selection/num_purchases\n",
    "print(f'duration ~ {duration} day')"
   ]
  },
  {
   "cell_type": "markdown",
   "id": "5e7f29e3",
   "metadata": {},
   "source": [
    "Расчетное значение продолжительности теста (~ 0.2092 дня) не учитывает выполнения целевого действия (получение покупки в пунктах выдачи товаров) с учетом того, что данный показатель был увеличен с 7 дней до 12 дней. Также стоит учесть, что клиент считается \"потерянным\" при отсутствии покупок в течение календарного месяца с момента последней покупки. Т.о. минимальный возможный срок проведения тестирования составляет календарный месяц с момента запуска. "
   ]
  },
  {
   "cell_type": "code",
   "execution_count": null,
   "id": "12ccd08b",
   "metadata": {},
   "outputs": [],
   "source": []
  },
  {
   "cell_type": "code",
   "execution_count": null,
   "id": "7d9737a8",
   "metadata": {},
   "outputs": [],
   "source": []
  },
  {
   "cell_type": "code",
   "execution_count": null,
   "id": "20b78214",
   "metadata": {},
   "outputs": [],
   "source": []
  }
 ],
 "metadata": {
  "kernelspec": {
   "display_name": "Python 3 (ipykernel)",
   "language": "python",
   "name": "python3"
  },
  "language_info": {
   "codemirror_mode": {
    "name": "ipython",
    "version": 3
   },
   "file_extension": ".py",
   "mimetype": "text/x-python",
   "name": "python",
   "nbconvert_exporter": "python",
   "pygments_lexer": "ipython3",
   "version": "3.9.13"
  }
 },
 "nbformat": 4,
 "nbformat_minor": 5
}
