{
 "cells": [
  {
   "cell_type": "markdown",
   "id": "80a28147",
   "metadata": {},
   "source": [
    "## Задание 1\n",
    "\n",
    "Вы провели эксперимент c упрощением формы заказа в магазине Утконос и получили результаты по метрике конверсий в покупку. Выберите метод оценки и оцените есть ли стат.значимые различия между конверсиями в двух группах при alpha = 5%. Дайте краткие рекомендации команде.\n",
    "Результаты:\n",
    "1)Число юзеров в группах, которые заходили на сайт в период эксперимента: n1 = 15550 и n2 = 15550 . 2)Число юзеров в группах, которые совершили хотя бы одну покупку за период эксперимента: n1 = 164 и n2 = 228 \n",
    "3)Конверсии : conv1 = 1.05% conv2 = 1.47% ."
   ]
  },
  {
   "cell_type": "markdown",
   "id": "f8150919",
   "metadata": {},
   "source": [
    "Для оценки конверсии используется метод Хи-квадрат на однородность распределения в двух ген совокупностях или Z критерий долей.\n",
    "В данной задаче будем использовать Z критерий долей. Необходимо посчитать доверительный интервал при alpha = 5%. Т.е. в 95% случаев данный интервал захватит истинное математическое ожидание.\n",
    "\n",
    "Нулевая гипотеза – Между конверсией в двух группах нет статистически значимых различий.\n",
    "Альтернативная гипотеза – Между конверсией в двух группах есть статистически значимые различия\n",
    "alpha = 0.05\n",
    "z(alpha/2) = z(0.025) = 1.96"
   ]
  },
  {
   "cell_type": "code",
   "execution_count": 3,
   "id": "7f454306",
   "metadata": {},
   "outputs": [],
   "source": [
    "import math\n",
    "\n",
    "conv_1_size, conv_2_size = 164, 228\n",
    "s_1_size, s_2_size = 15_550, 15_550\n",
    "conv_1, conv_2 = conv_1_size/s_1_size, conv_2_size/s_2_size"
   ]
  },
  {
   "cell_type": "code",
   "execution_count": 4,
   "id": "95e703da",
   "metadata": {},
   "outputs": [
    {
     "name": "stdout",
     "output_type": "stream",
     "text": [
      "[0.16363911081042679, 0.6595120145915024]\n"
     ]
    }
   ],
   "source": [
    "var_1 = conv_1 * (1 - conv_1) / s_1_size\n",
    "var_2 = conv_2 * (1 - conv_2) / s_2_size\n",
    "\n",
    "x1 = (conv_2 - conv_1 - 1.96 * math.sqrt(var_1 + var_2)) * 100\n",
    "x2 = (conv_2 - conv_1 + 1.96 * math.sqrt(var_1 + var_2)) * 100\n",
    "print([x1, x2])"
   ]
  },
  {
   "cell_type": "markdown",
   "id": "9993cd7f",
   "metadata": {},
   "source": [
    "Т.к. 0 не входит в доверительный интервал [0.16, 0.66], то на основе собранных данных существует статистически значимая разница между группами при alpha = 5%. Отвергается нулевая гипотеза. Изменение из второго теста необходимо применить."
   ]
  },
  {
   "cell_type": "markdown",
   "id": "173db9ae",
   "metadata": {},
   "source": [
    "## Задание 2\n",
    "\n",
    "Сравниваем метрику конверсия в покупку. Размер выборки - 10000 элементов в каждой группе . Какой статистический критерий тут лучше всего подойдёт и почему ?\n"
   ]
  },
  {
   "cell_type": "markdown",
   "id": "b8b02c2c",
   "metadata": {},
   "source": [
    "Для оценки конверсии используется метод Хи-квадрат на однородность распределения в двух ген совокупностях или Z критерий долей. Т.к. размер выборки большой (10000 элементов в каждой группе) предпочтительнее применить Z критерий долей"
   ]
  },
  {
   "cell_type": "code",
   "execution_count": null,
   "id": "08096c09",
   "metadata": {},
   "outputs": [],
   "source": []
  },
  {
   "cell_type": "code",
   "execution_count": null,
   "id": "b336bdff",
   "metadata": {},
   "outputs": [],
   "source": []
  },
  {
   "cell_type": "code",
   "execution_count": null,
   "id": "a420b8b5",
   "metadata": {},
   "outputs": [],
   "source": []
  },
  {
   "cell_type": "code",
   "execution_count": null,
   "id": "4f8bb2da",
   "metadata": {},
   "outputs": [],
   "source": []
  },
  {
   "cell_type": "code",
   "execution_count": null,
   "id": "8a40f182",
   "metadata": {},
   "outputs": [],
   "source": []
  },
  {
   "cell_type": "code",
   "execution_count": null,
   "id": "e0664192",
   "metadata": {},
   "outputs": [],
   "source": []
  },
  {
   "cell_type": "code",
   "execution_count": null,
   "id": "2679c367",
   "metadata": {},
   "outputs": [],
   "source": []
  },
  {
   "cell_type": "code",
   "execution_count": null,
   "id": "140456d9",
   "metadata": {},
   "outputs": [],
   "source": []
  },
  {
   "cell_type": "code",
   "execution_count": null,
   "id": "5fe26d11",
   "metadata": {},
   "outputs": [],
   "source": []
  },
  {
   "cell_type": "code",
   "execution_count": null,
   "id": "c2b3b56c",
   "metadata": {},
   "outputs": [],
   "source": []
  },
  {
   "cell_type": "code",
   "execution_count": null,
   "id": "16c22a17",
   "metadata": {},
   "outputs": [],
   "source": []
  },
  {
   "cell_type": "code",
   "execution_count": null,
   "id": "ceaa7137",
   "metadata": {},
   "outputs": [],
   "source": []
  },
  {
   "cell_type": "code",
   "execution_count": null,
   "id": "cdf874ce",
   "metadata": {},
   "outputs": [],
   "source": []
  },
  {
   "cell_type": "code",
   "execution_count": null,
   "id": "c4a9171d",
   "metadata": {},
   "outputs": [],
   "source": []
  },
  {
   "cell_type": "code",
   "execution_count": null,
   "id": "cfe548f4",
   "metadata": {},
   "outputs": [],
   "source": []
  },
  {
   "cell_type": "code",
   "execution_count": null,
   "id": "4c673754",
   "metadata": {},
   "outputs": [],
   "source": []
  },
  {
   "cell_type": "code",
   "execution_count": null,
   "id": "77dd694c",
   "metadata": {},
   "outputs": [],
   "source": []
  },
  {
   "cell_type": "code",
   "execution_count": null,
   "id": "95f1c2ab",
   "metadata": {},
   "outputs": [],
   "source": []
  },
  {
   "cell_type": "code",
   "execution_count": null,
   "id": "eeb454d6",
   "metadata": {},
   "outputs": [],
   "source": []
  }
 ],
 "metadata": {
  "kernelspec": {
   "display_name": "Python 3 (ipykernel)",
   "language": "python",
   "name": "python3"
  },
  "language_info": {
   "codemirror_mode": {
    "name": "ipython",
    "version": 3
   },
   "file_extension": ".py",
   "mimetype": "text/x-python",
   "name": "python",
   "nbconvert_exporter": "python",
   "pygments_lexer": "ipython3",
   "version": "3.9.13"
  }
 },
 "nbformat": 4,
 "nbformat_minor": 5
}
